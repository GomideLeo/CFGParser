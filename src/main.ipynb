{
 "cells": [
  {
   "cell_type": "code",
   "execution_count": 1,
   "metadata": {},
   "outputs": [],
   "source": [
    "%load_ext autoreload\n",
    "%aimport CFG \n",
    "from CFG import ContextFreeGrammar"
   ]
  },
  {
   "cell_type": "code",
   "execution_count": 145,
   "metadata": {},
   "outputs": [],
   "source": [
    "%autoreload explicit"
   ]
  },
  {
   "cell_type": "code",
   "execution_count": 242,
   "metadata": {},
   "outputs": [
    {
     "name": "stdout",
     "output_type": "stream",
     "text": [
      "    V: ['S', 'A', 'B', 'C', 'D']\n",
      "    Σ: ['a', 'b', 'd']\n",
      "    s: S\n",
      "    P:  S -> aaB | abA | aaS\n",
      "\tA -> aA | aD\n",
      "\tB -> ab | b\n",
      "\tC -> ad\n",
      "\tD -> aD | aA\n",
      "[('S', ['a', 'a', 'B']), ('S', ['a', 'b', 'A']), ('S', ['a', 'a', 'S']), ('A', ['a', 'A']), ('A', ['a', 'D']), ('D', ['a', 'D']), ('D', ['a', 'A']), ('B', ['a', 'b']), ('B', ['b']), ('C', ['a', 'd'])]\n"
     ]
    }
   ],
   "source": [
    "cfg = ContextFreeGrammar.from_file('../samples/G6.txt')\n",
    "print(cfg)\n",
    "print(cfg.P)"
   ]
  },
  {
   "cell_type": "code",
   "execution_count": 243,
   "metadata": {},
   "outputs": [
    {
     "name": "stdout",
     "output_type": "stream",
     "text": [
      "    V: ['S', 'B']\n",
      "    Σ: ['a', 'b']\n",
      "    s: S\n",
      "    P:  S -> aaB | aaS\n",
      "\tB -> ab | b\n"
     ]
    }
   ],
   "source": [
    "print(cfg.chomskyfy())"
   ]
  },
  {
   "cell_type": "code",
   "execution_count": null,
   "metadata": {},
   "outputs": [],
   "source": []
  }
 ],
 "metadata": {
  "kernelspec": {
   "display_name": "Python 3",
   "language": "python",
   "name": "python3"
  },
  "language_info": {
   "codemirror_mode": {
    "name": "ipython",
    "version": 3
   },
   "file_extension": ".py",
   "mimetype": "text/x-python",
   "name": "python",
   "nbconvert_exporter": "python",
   "pygments_lexer": "ipython3",
   "version": "3.12.0"
  }
 },
 "nbformat": 4,
 "nbformat_minor": 2
}
