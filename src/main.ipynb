{
 "cells": [
  {
   "cell_type": "code",
   "execution_count": 2,
   "metadata": {},
   "outputs": [],
   "source": [
    "%load_ext autoreload\n",
    "%aimport CFG \n",
    "%aimport CNF \n",
    "%aimport BNF \n",
    "%aimport LanguageGenerator\n",
    "from CFG import ContextFreeGrammar\n",
    "from CNF import ChomskyNormalForm\n",
    "from BNF import BinaryNormalForm"
   ]
  },
  {
   "cell_type": "code",
   "execution_count": 3,
   "metadata": {},
   "outputs": [],
   "source": [
    "%autoreload explicit"
   ]
  },
  {
   "cell_type": "code",
   "execution_count": 32,
   "metadata": {},
   "outputs": [
    {
     "name": "stdout",
     "output_type": "stream",
     "text": [
      "    V: ['S', 'A', 'B']\n",
      "    Σ: ['a', 'b']\n",
      "    s: S\n",
      "    P:  S -> ASA | aB\n",
      "\tA -> B | S\n",
      "\tB -> b | λ\n"
     ]
    }
   ],
   "source": [
    "cfg = ContextFreeGrammar.from_file('../samples/Grammars/G9.txt')\n",
    "print(cfg)"
   ]
  },
  {
   "cell_type": "code",
   "execution_count": 36,
   "metadata": {},
   "outputs": [
    {
     "name": "stdout",
     "output_type": "stream",
     "text": [
      "    V: [\"S'\", 'A', 'B', 'S', 'Z']\n",
      "    Σ: ['a', 'b']\n",
      "    s: S'\n",
      "    P:  S' -> S\n",
      "\tA -> B | S\n",
      "\tB -> b | λ\n",
      "\tS -> AZ | aB\n",
      "\tZ -> SA\n"
     ]
    }
   ],
   "source": [
    "bnf = BinaryNormalForm.from_CFG(cfg)\n",
    "print(bnf)"
   ]
  },
  {
   "cell_type": "code",
   "execution_count": 44,
   "metadata": {},
   "outputs": [
    {
     "data": {
      "text/plain": [
       "{'Z': {'S'}, 'A': {'B', 'S'}, 'B': {'b'}, 'S': {'Z', 'a'}, \"S'\": {'S'}}"
      ]
     },
     "execution_count": 44,
     "metadata": {},
     "output_type": "execute_result"
    }
   ],
   "source": [
    "bnf.find_unit_relation()"
   ]
  },
  {
   "cell_type": "code",
   "execution_count": 25,
   "metadata": {},
   "outputs": [
    {
     "name": "stdout",
     "output_type": "stream",
     "text": [
      "    V: ['S', 'P', 'W', 'X', 'Y', 'Z']\n",
      "    Σ: ['0', '1']\n",
      "    s: S\n",
      "    P:  S -> λ | XZ | WY | 0 | 1 | XX | WW\n",
      "\tP -> XZ | WY | 0 | 1 | XX | WW\n",
      "\tW -> 1\n",
      "\tX -> 0\n",
      "\tY -> PW\n",
      "\tZ -> PX\n"
     ]
    }
   ],
   "source": [
    "cnf = ChomskyNormalForm.from_CFG(bnf)\n",
    "print(cnf)"
   ]
  },
  {
   "cell_type": "code",
   "execution_count": 26,
   "metadata": {},
   "outputs": [
    {
     "data": {
      "text/plain": [
       "False"
      ]
     },
     "execution_count": 26,
     "metadata": {},
     "output_type": "execute_result"
    }
   ],
   "source": [
    "cnf.is_in_grammar([\"a\", \"b\", \"a\"])"
   ]
  },
  {
   "cell_type": "code",
   "execution_count": 27,
   "metadata": {},
   "outputs": [
    {
     "name": "stdout",
     "output_type": "stream",
     "text": [
      "λ:True\n",
      "0:True\n",
      "1:True\n",
      "00:True\n",
      "11:True\n",
      "000:True\n",
      "010:True\n",
      "101:True\n",
      "111:True\n",
      "0000:True\n",
      "0110:True\n",
      "1001:True\n",
      "1111:True\n",
      "00000:True\n",
      "00100:True\n",
      "01010:True\n",
      "01110:True\n",
      "10001:True\n",
      "10101:True\n",
      "11011:True\n",
      "11111:True\n",
      "000000:True\n",
      "001100:True\n",
      "010010:True\n",
      "011110:True\n",
      "100001:True\n",
      "101101:True\n",
      "110011:True\n",
      "111111:True\n",
      "0000000:True\n",
      "0001000:True\n",
      "0010100:True\n",
      "0011100:True\n",
      "0100010:True\n",
      "0101010:True\n",
      "0110110:True\n",
      "0111110:True\n",
      "1000001:True\n",
      "1001001:True\n",
      "1010101:True\n",
      "1011101:True\n",
      "1100011:True\n",
      "1101011:True\n",
      "1110111:True\n",
      "1111111:True\n",
      "00000000:True\n",
      "00011000:True\n",
      "00100100:True\n",
      "00111100:True\n",
      "01000010:True\n",
      "01011010:True\n",
      "01100110:True\n",
      "01111110:True\n",
      "10000001:True\n",
      "10011001:True\n",
      "10100101:True\n",
      "10111101:True\n",
      "11000011:True\n",
      "11011011:True\n",
      "11100111:True\n",
      "11111111:True\n"
     ]
    },
    {
     "data": {
      "text/plain": [
       "True"
      ]
     },
     "execution_count": 27,
     "metadata": {},
     "output_type": "execute_result"
    }
   ],
   "source": [
    "cnf.check_language('../samples/Languages/01palindrome.txt')"
   ]
  }
 ],
 "metadata": {
  "kernelspec": {
   "display_name": "Python 3",
   "language": "python",
   "name": "python3"
  },
  "language_info": {
   "codemirror_mode": {
    "name": "ipython",
    "version": 3
   },
   "file_extension": ".py",
   "mimetype": "text/x-python",
   "name": "python",
   "nbconvert_exporter": "python",
   "pygments_lexer": "ipython3",
   "version": "3.12.0"
  }
 },
 "nbformat": 4,
 "nbformat_minor": 2
}
