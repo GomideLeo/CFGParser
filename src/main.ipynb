{
 "cells": [
  {
   "cell_type": "code",
   "execution_count": 2,
   "metadata": {},
   "outputs": [],
   "source": [
    "%load_ext autoreload\n",
    "%aimport CFG \n",
    "from CFG import ContextFreeGrammar"
   ]
  },
  {
   "cell_type": "code",
   "execution_count": 3,
   "metadata": {},
   "outputs": [],
   "source": [
    "%autoreload explicit"
   ]
  },
  {
   "cell_type": "code",
   "execution_count": 11,
   "metadata": {},
   "outputs": [
    {
     "name": "stdout",
     "output_type": "stream",
     "text": [
      "    V: ['S', 'A', 'B']\n",
      "    Σ: ['a', 'b']\n",
      "    s: S\n",
      "    P:  S -> a | aA | B\n",
      "\tA -> aBB | λ\n",
      "\tB -> Aa | b\n",
      "[('B', ['A', 'a']), ('B', ['b'])]\n"
     ]
    }
   ],
   "source": [
    "cfg = ContextFreeGrammar.from_file('../samples/G10.txt')\n",
    "print(cfg)\n",
    "print(cfg.P[-2:])"
   ]
  },
  {
   "cell_type": "code",
   "execution_count": 12,
   "metadata": {},
   "outputs": [
    {
     "name": "stdout",
     "output_type": "stream",
     "text": [
      "    V: ['S', 'A', 'B', 'Y', 'Z']\n",
      "    Σ: ['a', 'b']\n",
      "    s: S\n",
      "    P:  S -> a | ZA | AZ | b\n",
      "\tA -> ZY\n",
      "\tB -> AZ | b | a\n",
      "\tY -> BB\n",
      "\tZ -> a\n"
     ]
    }
   ],
   "source": [
    "print(cfg.chomskyfy())"
   ]
  },
  {
   "cell_type": "code",
   "execution_count": null,
   "metadata": {},
   "outputs": [],
   "source": []
  }
 ],
 "metadata": {
  "kernelspec": {
   "display_name": "Python 3",
   "language": "python",
   "name": "python3"
  },
  "language_info": {
   "codemirror_mode": {
    "name": "ipython",
    "version": 3
   },
   "file_extension": ".py",
   "mimetype": "text/x-python",
   "name": "python",
   "nbconvert_exporter": "python",
   "pygments_lexer": "ipython3",
   "version": "3.12.0"
  }
 },
 "nbformat": 4,
 "nbformat_minor": 2
}
