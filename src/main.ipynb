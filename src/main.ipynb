{
 "cells": [
  {
   "cell_type": "code",
   "execution_count": 4,
   "metadata": {},
   "outputs": [
    {
     "name": "stdout",
     "output_type": "stream",
     "text": [
      "The autoreload extension is already loaded. To reload it, use:\n",
      "  %reload_ext autoreload\n"
     ]
    }
   ],
   "source": [
    "%load_ext autoreload\n",
    "%aimport CFG \n",
    "%aimport CNF \n",
    "%aimport BNF \n",
    "%aimport languageGenerator\n",
    "from CFG import ContextFreeGrammar\n",
    "from CNF import ChomskyNormalForm\n",
    "from BNF import BinaryNormalForm"
   ]
  },
  {
   "cell_type": "code",
   "execution_count": 5,
   "metadata": {},
   "outputs": [],
   "source": [
    "%autoreload explicit"
   ]
  },
  {
   "cell_type": "code",
   "execution_count": 6,
   "metadata": {},
   "outputs": [
    {
     "name": "stdout",
     "output_type": "stream",
     "text": [
      "    V: ['S', 'A', 'B']\n",
      "    Σ: ['a', 'b']\n",
      "    s: S\n",
      "    P:  S -> ASA | aB\n",
      "\tA -> B | S\n",
      "\tB -> b | λ\n",
      "[('B', ['b']), ('B', [])]\n"
     ]
    }
   ],
   "source": [
    "cfg = ContextFreeGrammar.from_file('../samples/G9.txt')\n",
    "print(cfg)\n",
    "print(cfg.P[-2:])"
   ]
  },
  {
   "cell_type": "code",
   "execution_count": 7,
   "metadata": {},
   "outputs": [
    {
     "name": "stdout",
     "output_type": "stream",
     "text": [
      "{'B', 'A', 'S'}\n",
      "    V: [\"S'\", 'A', 'B', 'S', 'Z']\n",
      "    Σ: ['a', 'b']\n",
      "    s: S'\n",
      "    P:  S' -> S\n",
      "\tA -> B | S\n",
      "\tB -> b\n",
      "\tS -> AZ | aB | a | SA | AS | S\n",
      "\tZ -> SA\n"
     ]
    }
   ],
   "source": [
    "bnf = BinaryNormalForm.from_CFG(cfg)\n",
    "print(bnf)"
   ]
  },
  {
   "cell_type": "code",
   "execution_count": 8,
   "metadata": {},
   "outputs": [
    {
     "name": "stdout",
     "output_type": "stream",
     "text": [
      "    V: ['S1', 'A', 'B', 'S', \"S'\", 'Z']\n",
      "    Σ: ['a', 'b']\n",
      "    s: S1\n",
      "    P:  S1 -> S'\n",
      "\tA -> B | S\n",
      "\tB -> b\n",
      "\tS -> AZ | aB | a | SA | AS | S\n",
      "\tS' -> S\n",
      "\tZ -> SA\n"
     ]
    }
   ],
   "source": [
    "print(bnf.add_new_start())"
   ]
  },
  {
   "cell_type": "code",
   "execution_count": 9,
   "metadata": {},
   "outputs": [
    {
     "data": {
      "text/plain": [
       "[('S', ['A', 'Z']),\n",
       " ('S', ['a', 'B']),\n",
       " ('A', ['B']),\n",
       " ('A', ['S']),\n",
       " ('B', ['b']),\n",
       " (\"S'\", ['S']),\n",
       " ('S', ['a']),\n",
       " ('S', ['S', 'A']),\n",
       " ('S', ['A', 'S']),\n",
       " ('S', ['S']),\n",
       " ('Z', ['S', 'A'])]"
      ]
     },
     "execution_count": 9,
     "metadata": {},
     "output_type": "execute_result"
    }
   ],
   "source": [
    "bnf.P"
   ]
  },
  {
   "cell_type": "code",
   "execution_count": 10,
   "metadata": {},
   "outputs": [
    {
     "name": "stdout",
     "output_type": "stream",
     "text": [
      "{\"S'\", 'A', 'S', 'B', 'Z'}\n",
      "    V: [\"S'\", 'A', 'B', 'S', 'Y', 'Z']\n",
      "    Σ: ['a', 'b']\n",
      "    s: S'\n",
      "    P:  S' -> AZ | YB | a | SA | AS\n",
      "\tA -> b | AZ | YB | a | SA | AS\n",
      "\tB -> b\n",
      "\tS -> AZ | YB | a | SA | AS\n",
      "\tY -> a\n",
      "\tZ -> SA\n"
     ]
    }
   ],
   "source": [
    "cnf = ChomskyNormalForm.from_CFG(bnf)\n",
    "print(cnf)"
   ]
  },
  {
   "cell_type": "code",
   "execution_count": 26,
   "metadata": {},
   "outputs": [
    {
     "data": {
      "text/plain": [
       "True"
      ]
     },
     "execution_count": 26,
     "metadata": {},
     "output_type": "execute_result"
    }
   ],
   "source": [
    "cnf.is_in_grammar([\"a\", \"b\", \"a\"])"
   ]
  },
  {
   "cell_type": "code",
   "execution_count": null,
   "metadata": {},
   "outputs": [],
   "source": []
  }
 ],
 "metadata": {
  "kernelspec": {
   "display_name": "Python 3",
   "language": "python",
   "name": "python3"
  },
  "language_info": {
   "codemirror_mode": {
    "name": "ipython",
    "version": 3
   },
   "file_extension": ".py",
   "mimetype": "text/x-python",
   "name": "python",
   "nbconvert_exporter": "python",
   "pygments_lexer": "ipython3",
   "version": "3.12.0"
  }
 },
 "nbformat": 4,
 "nbformat_minor": 2
}
