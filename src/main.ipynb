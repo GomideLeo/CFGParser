{
 "cells": [
  {
   "cell_type": "code",
   "execution_count": 1,
   "metadata": {},
   "outputs": [],
   "source": [
    "%load_ext autoreload\n",
    "%aimport CFG \n",
    "from CFG import ContextFreeGrammar"
   ]
  },
  {
   "cell_type": "code",
   "execution_count": 145,
   "metadata": {},
   "outputs": [],
   "source": [
    "%autoreload explicit"
   ]
  },
  {
   "cell_type": "code",
   "execution_count": 356,
   "metadata": {},
   "outputs": [
    {
     "name": "stdout",
     "output_type": "stream",
     "text": [
      "    V: ['S', 'A', \"A'\", 'B', \"B'\"]\n",
      "    Σ: ['\\\\', 'a', 'b']\n",
      "    s: S\n",
      "    P:  S -> A\\B' | A'\\B\n",
      "\tA -> a | Aa\n",
      "\tA' -> λ | Aa\n",
      "\tB -> b | Bb\n",
      "\tB' -> λ | Bb\n",
      "[('S', ['A', '\\\\', \"B'\"]), ('S', [\"A'\", '\\\\', 'B']), ('A', ['a']), ('A', ['A', 'a']), (\"A'\", []), (\"A'\", ['A', 'a']), ('B', ['b']), ('B', ['B', 'b']), (\"B'\", []), (\"B'\", ['B', 'b'])]\n"
     ]
    }
   ],
   "source": [
    "cfg = ContextFreeGrammar.from_file('../samples/G4.txt')\n",
    "print(cfg)\n",
    "print(cfg.P)"
   ]
  },
  {
   "cell_type": "code",
   "execution_count": 360,
   "metadata": {},
   "outputs": [
    {
     "name": "stdout",
     "output_type": "stream",
     "text": [
      "    V: ['S', 'A', \"A'\", 'B', \"B'\"]\n",
      "    Σ: ['\\\\', 'a', 'b']\n",
      "    s: S\n",
      "    P:  S -> A\\B' | A'\\B | A\\ | \\B\n",
      "\tA -> a | Aa\n",
      "\tA' -> Aa\n",
      "\tB -> b | Bb\n",
      "\tB' -> Bb\n"
     ]
    }
   ],
   "source": [
    "print(cfg.chomskyfy())"
   ]
  },
  {
   "cell_type": "code",
   "execution_count": null,
   "metadata": {},
   "outputs": [],
   "source": []
  }
 ],
 "metadata": {
  "kernelspec": {
   "display_name": "Python 3",
   "language": "python",
   "name": "python3"
  },
  "language_info": {
   "codemirror_mode": {
    "name": "ipython",
    "version": 3
   },
   "file_extension": ".py",
   "mimetype": "text/x-python",
   "name": "python",
   "nbconvert_exporter": "python",
   "pygments_lexer": "ipython3",
   "version": "3.12.0"
  }
 },
 "nbformat": 4,
 "nbformat_minor": 2
}
