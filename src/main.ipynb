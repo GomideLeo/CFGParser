{
 "cells": [
  {
   "cell_type": "code",
   "execution_count": 9,
   "metadata": {},
   "outputs": [
    {
     "name": "stdout",
     "output_type": "stream",
     "text": [
      "The autoreload extension is already loaded. To reload it, use:\n",
      "  %reload_ext autoreload\n"
     ]
    }
   ],
   "source": [
    "%load_ext autoreload\n",
    "%aimport CFG \n",
    "%aimport CNF \n",
    "%aimport BNF \n",
    "%aimport LanguageGenerator\n",
    "from CFG import ContextFreeGrammar\n",
    "from CNF import ChomskyNormalForm\n",
    "from BNF import BinaryNormalForm"
   ]
  },
  {
   "cell_type": "code",
   "execution_count": 10,
   "metadata": {},
   "outputs": [],
   "source": [
    "%autoreload explicit"
   ]
  },
  {
   "cell_type": "code",
   "execution_count": 11,
   "metadata": {},
   "outputs": [
    {
     "name": "stdout",
     "output_type": "stream",
     "text": [
      "    V: ['S', 'A', 'B']\n",
      "    Σ: ['a', 'b']\n",
      "    s: S\n",
      "    P:  S -> ASA | aB\n",
      "\tA -> B | S\n",
      "\tB -> b | λ\n"
     ]
    }
   ],
   "source": [
    "cfg = ContextFreeGrammar.from_file('../samples/Grammars/G9.txt')\n",
    "print(cfg)"
   ]
  },
  {
   "cell_type": "code",
   "execution_count": 12,
   "metadata": {},
   "outputs": [
    {
     "name": "stdout",
     "output_type": "stream",
     "text": [
      "    V: ['S', 'A', 'B', 'Z']\n",
      "    Σ: ['a', 'b']\n",
      "    s: S\n",
      "    P:  S -> AZ | aB\n",
      "\tA -> B | S\n",
      "\tB -> b | λ\n",
      "\tZ -> SA\n"
     ]
    }
   ],
   "source": [
    "bnf = BinaryNormalForm.from_CFG(cfg)\n",
    "print(bnf)"
   ]
  },
  {
   "cell_type": "code",
   "execution_count": 13,
   "metadata": {},
   "outputs": [
    {
     "data": {
      "text/plain": [
       "{'B': {'b'}, 'S': {'Z', 'a'}, 'A': {'B', 'S'}, 'Z': {'S'}}"
      ]
     },
     "execution_count": 13,
     "metadata": {},
     "output_type": "execute_result"
    }
   ],
   "source": [
    "bnf.find_unit_relation()"
   ]
  },
  {
   "cell_type": "code",
   "execution_count": 41,
   "metadata": {},
   "outputs": [
    {
     "data": {
      "text/plain": [
       "{'B': {'A'}, 'S': {'A', 'Z'}, 'A': set(), 'Z': {'S'}, 'b': {'B'}, 'a': {'S'}}"
      ]
     },
     "execution_count": 41,
     "metadata": {},
     "output_type": "execute_result"
    }
   ],
   "source": [
    "bnf.find_inverse_unit_relation()"
   ]
  },
  {
   "cell_type": "code",
   "execution_count": 42,
   "metadata": {},
   "outputs": [
    {
     "data": {
      "text/plain": [
       "True"
      ]
     },
     "execution_count": 42,
     "metadata": {},
     "output_type": "execute_result"
    }
   ],
   "source": [
    "bnf.is_in_language([\"a\", \"b\", \"a\"])"
   ]
  },
  {
   "cell_type": "code",
   "execution_count": 22,
   "metadata": {},
   "outputs": [
    {
     "name": "stdout",
     "output_type": "stream",
     "text": [
      "    V: [\"S'\", 'A', 'B', 'S', 'Y', 'Z']\n",
      "    Σ: ['a', 'b']\n",
      "    s: S'\n",
      "    P:  S' -> AZ | YB | a | SA\n",
      "\tA -> b | AZ | YB | a | SA\n",
      "\tB -> b\n",
      "\tS -> AZ | YB | a | SA\n",
      "\tY -> a\n",
      "\tZ -> SA | AZ | YB | a\n"
     ]
    }
   ],
   "source": [
    "cnf = ChomskyNormalForm.from_CFG(bnf)\n",
    "print(cnf)"
   ]
  },
  {
   "cell_type": "code",
   "execution_count": 43,
   "metadata": {},
   "outputs": [
    {
     "data": {
      "text/plain": [
       "True"
      ]
     },
     "execution_count": 43,
     "metadata": {},
     "output_type": "execute_result"
    }
   ],
   "source": [
    "cnf.is_in_language([\"a\", \"b\", \"a\"])"
   ]
  },
  {
   "cell_type": "code",
   "execution_count": 27,
   "metadata": {},
   "outputs": [
    {
     "name": "stdout",
     "output_type": "stream",
     "text": [
      "λ:True\n",
      "0:True\n",
      "1:True\n",
      "00:True\n",
      "11:True\n",
      "000:True\n",
      "010:True\n",
      "101:True\n",
      "111:True\n",
      "0000:True\n",
      "0110:True\n",
      "1001:True\n",
      "1111:True\n",
      "00000:True\n",
      "00100:True\n",
      "01010:True\n",
      "01110:True\n",
      "10001:True\n",
      "10101:True\n",
      "11011:True\n",
      "11111:True\n",
      "000000:True\n",
      "001100:True\n",
      "010010:True\n",
      "011110:True\n",
      "100001:True\n",
      "101101:True\n",
      "110011:True\n",
      "111111:True\n",
      "0000000:True\n",
      "0001000:True\n",
      "0010100:True\n",
      "0011100:True\n",
      "0100010:True\n",
      "0101010:True\n",
      "0110110:True\n",
      "0111110:True\n",
      "1000001:True\n",
      "1001001:True\n",
      "1010101:True\n",
      "1011101:True\n",
      "1100011:True\n",
      "1101011:True\n",
      "1110111:True\n",
      "1111111:True\n",
      "00000000:True\n",
      "00011000:True\n",
      "00100100:True\n",
      "00111100:True\n",
      "01000010:True\n",
      "01011010:True\n",
      "01100110:True\n",
      "01111110:True\n",
      "10000001:True\n",
      "10011001:True\n",
      "10100101:True\n",
      "10111101:True\n",
      "11000011:True\n",
      "11011011:True\n",
      "11100111:True\n",
      "11111111:True\n"
     ]
    },
    {
     "data": {
      "text/plain": [
       "True"
      ]
     },
     "execution_count": 27,
     "metadata": {},
     "output_type": "execute_result"
    }
   ],
   "source": [
    "cnf.check_language('../samples/Languages/01palindrome.txt')"
   ]
  }
 ],
 "metadata": {
  "kernelspec": {
   "display_name": "Python 3",
   "language": "python",
   "name": "python3"
  },
  "language_info": {
   "codemirror_mode": {
    "name": "ipython",
    "version": 3
   },
   "file_extension": ".py",
   "mimetype": "text/x-python",
   "name": "python",
   "nbconvert_exporter": "python",
   "pygments_lexer": "ipython3",
   "version": "3.12.0"
  }
 },
 "nbformat": 4,
 "nbformat_minor": 2
}
